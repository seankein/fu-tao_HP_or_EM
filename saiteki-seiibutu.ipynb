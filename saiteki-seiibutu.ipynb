{
 "cells": [
  {
   "cell_type": "markdown",
   "metadata": {},
   "source": [
    "このコードでは胡桃の最適聖遺物スコアを計算します。  \n",
    "聖遺物はメインステータスとサブステータスがあって、メインステータスは固定で、サブステータスはランダムで決まります。  \n",
    "サブステータスは最大4つあり、それぞれのサブステータスにはランダムに値が決まります。  \n",
    "今回は条件として100％蒸発、サブステは理想とされる率ダメHP熟知の四種類とし、重撃ダメージの理論値聖遺物組み合わせを求めます。"
   ]
  },
  {
   "cell_type": "markdown",
   "metadata": {},
   "source": [
    "フータオの初期パラメータは以下の通りです。\n",
    "- レベル: 90\n",
    "- HP: 15552\n",
    "- 攻撃力: 106\n",
    "- 護摩の杖の攻撃力: 608\n",
    "- 会心率: 5%\n",
    "- 会心ダメージ: 88.6%"
   ]
  },
  {
   "cell_type": "code",
   "execution_count": 1,
   "metadata": {},
   "outputs": [],
   "source": [
    "#フータオの初期パラメータは以下の通りです。\n",
    "# レベル: 90\n",
    "# HP: 15552\n",
    "# 攻撃力: 106\n",
    "# 護摩の杖の攻撃力: 608\n",
    "# 会心率: 5%\n",
    "# 会心ダメージ: 88.6%\n",
    "Cha_HP = 15552\n",
    "Cha_ATK = 106\n",
    "staff_ATK = 608\n",
    "base_CritRate = 0.05\n",
    "base_CritDamage = 0.884\n",
    "staff_CritDamage = 0.662\n",
    "#よって基礎攻撃力は次の様になる\n",
    "base_ATK = Cha_ATK + staff_ATK"
   ]
  },
  {
   "cell_type": "markdown",
   "metadata": {},
   "source": [
    "ここから聖遺物のメインオプション効果です.時計は二通り想定する\n",
    "- 花：HP＝4780\n",
    "- 羽：攻撃力＝311\n",
    "- HP時計：HPバフ＝46.6％\n",
    "- 元素熟知時計：元素熟知＝187\n",
    "- 杯：炎元素バフ＝46.6％\n",
    "- 冠：31.1％"
   ]
  },
  {
   "cell_type": "code",
   "execution_count": 2,
   "metadata": {},
   "outputs": [],
   "source": [
    "#よって総合HPは次の様になる\n",
    "#総合HP = (キャラHP * (1 + 時計のバフ値 + 護摩の杖のバフ + サブオプションの伸び) + 花固定値)\n",
    "def total_HP(HPcount,switch):\n",
    "    return (Cha_HP * (1 + 0.466 * (1-switch) + 0.200 + 0.058 * HPcount) + 4780)\n",
    "#元素熟知の合計値を定義する\n",
    "def total_EM(EMcount,switch):\n",
    "    return (187 * switch + 23 * EMcount)\n",
    "#また、総合攻撃力は次の様になる\n",
    "#基礎攻撃力 = (キャラ攻撃力 + 武器固定値)\n",
    "base_ATK = Cha_ATK + staff_ATK\n",
    "#フータオの元素スキルの効果により、最大HPの6.26％が攻撃力に変換されます。\n",
    "#また護摩の杖により、HP+20%。また、キャラクターのHP上限の0.8%分、攻撃力がアップする。キャラクターのHPが50%未満の時、攻撃力が更にHP上限の1%分アップする。\n",
    "#よって、フータオのHPが50％未満と仮定して、合計攻撃力は天賦効果を考慮して以下の通りです。\n",
    "#攻撃力＝基礎攻撃力 + 聖遺物固定値 + 総合体力 * (0.0626+0.008+0.01)\n",
    "def atk(HPcount,switch):\n",
    "    skill = total_HP(HPcount,switch) * 0.0626\n",
    "    if skill > (base_ATK * 4):\n",
    "        skill = base_ATK * 4\n",
    "    return (base_ATK + 311 + total_HP(HPcount,switch) * (0.018) + skill)\n",
    "#フータオのダメージボーナス％は以下の通りです。\n",
    "#ダメージボーナス％ ＝ 杯の固定値 + 天賦効果HP50％以下の時に33％ + 火魔女4セット効果により炎元素ダメージ + 22.5％となります。\n",
    "dmg_bonus = 0.466 + 0.33 + 0.225\n",
    "#フータオの会心率は以下の通りです。\n",
    "#会心率＝基礎会心率 + 聖遺物のメインオプション + 聖遺物のサブオプション\n",
    "def total_CR(CRcount):\n",
    "    cul = (base_CritRate + 0.311 + 0.039 * CRcount)\n",
    "    if cul > 1:\n",
    "        return 1\n",
    "    else:\n",
    "        return cul\n",
    "#フータオの会心ダメージは以下の通りです。\n",
    "#会心ダメージ＝基礎会心ダメージ + 聖遺物のサブオプション + 護摩の杖による会心ダメージ\n",
    "def total_CD(CDcount):\n",
    "    return (base_CritDamage + 0.078 * CDcount + 0.662)\n",
    "#蒸発乗数% は以下の様に定義できる\n",
    "#蒸発反応倍率 × ( 1 + 元素熟知の元素反応ダメージボーナス + 装備の効果)\n",
    "#元素熟知の元素反応ダメージボーナスは以下の通りです。\n",
    "#2.78*元素熟知 / (元素熟知+1400) \n",
    "def Vaporize_bonus(EMcount,switch):\n",
    "    return (1.5 * (1 + 2.78 * total_EM(EMcount,switch) / (total_EM(EMcount,switch)+ 1400) + 0.15))"
   ]
  },
  {
   "cell_type": "code",
   "execution_count": 15,
   "metadata": {},
   "outputs": [],
   "source": [
    "\n",
    "def calculate_damage(s, h, r, d, e):\n",
    "    dmg_bonus = 0.466 + 0.33 + 0.225\n",
    "    # 総合ダメージ　= 攻撃力 * (1 + ダメージボーナス) * (1 + 会心率 * 会心ダメージ) * 防御力減衰 * レベル補正 * 蒸発乗数\n",
    "    damage = atk(h, s) * 2.426 * (1 + dmg_bonus) * (1 + total_CR(r) * total_CD(d)) * 0.5 * 0.9 * Vaporize_bonus(e, s)\n",
    "    return damage\n",
    "\n",
    "def find_max_damage():\n",
    "    max_damage = 0\n",
    "    for s in range(0, 2):\n",
    "        print(s)\n",
    "        for h in range(5, 46):\n",
    "            for r in range(5, 41):\n",
    "                for d in range(5, 46):\n",
    "                    e = 45 - h - r - d\n",
    "                    if e < 5:\n",
    "                        continue\n",
    "                    damage = calculate_damage(s, h, r, d, e)\n",
    "                    # 最大ダメージを更新する\n",
    "                    if damage > max_damage:\n",
    "                        max_damage = damage\n",
    "                        max_s = s\n",
    "                        max_h = h\n",
    "                        max_r = r\n",
    "                        max_d = d\n",
    "                        max_e = e\n",
    "    return max_damage , max_s , max_h , max_r , max_d , max_e\n"
   ]
  },
  {
   "cell_type": "code",
   "execution_count": 18,
   "metadata": {},
   "outputs": [],
   "source": [
    "def find_max_damage():\n",
    "    max_damage = 0\n",
    "    s=0\n",
    "    for h in range(5, 46):\n",
    "        for r in range(5, 41):\n",
    "            for d in range(5, 46):\n",
    "                e = 45 - h - r - d\n",
    "                if e < 5:\n",
    "                    continue\n",
    "                damage = calculate_damage(s, h, r, d, e)\n",
    "                # 最大ダメージを更新する\n",
    "                if damage > max_damage:\n",
    "                    max_damage = damage\n",
    "                    max_s = s\n",
    "                    max_h = h\n",
    "                    max_r = r\n",
    "                    max_d = d\n",
    "                    max_e = e\n",
    "    return max_damage , max_s , max_h , max_r , max_d , max_e"
   ]
  },
  {
   "cell_type": "markdown",
   "metadata": {},
   "source": [
    "# 結論！"
   ]
  },
  {
   "cell_type": "code",
   "execution_count": 19,
   "metadata": {},
   "outputs": [
    {
     "name": "stdout",
     "output_type": "stream",
     "text": [
      "Max Damage: 70934.4962014658\n",
      "HP時計\n",
      "HP: 35199.712\n",
      "熟知: 230\n",
      "会心: 0.985\n",
      "会心ダメ: 2.638\n",
      "HPサブオプ: 5\n",
      "熟知サブオプ: 10\n",
      "会心サブオプ: 16\n",
      "会心ダメサブオプ: 14\n"
     ]
    }
   ],
   "source": [
    "max_damage, max_s, max_h, max_r, max_d, max_e = find_max_damage()\n",
    "print(\"Max Damage:\", max_damage)\n",
    "if max_s == 1:\n",
    "    print(\"熟知時計\")\n",
    "else:\n",
    "    print(\"HP時計\")\n",
    "print(\"HP:\", total_HP(max_h, max_s))\n",
    "print(\"熟知:\", total_EM(max_e, max_s))\n",
    "print(\"会心:\", total_CR(max_r))\n",
    "print(\"会心ダメ:\", total_CD(max_d))\n",
    "print(\"HPサブオプ:\", max_h)\n",
    "print(\"熟知サブオプ:\", max_e)\n",
    "print(\"会心サブオプ:\", max_r)\n",
    "print(\"会心ダメサブオプ:\", max_d)"
   ]
  },
  {
   "cell_type": "code",
   "execution_count": null,
   "metadata": {},
   "outputs": [],
   "source": []
  }
 ],
 "metadata": {
  "kernelspec": {
   "display_name": "Python 3",
   "language": "python",
   "name": "python3"
  },
  "language_info": {
   "codemirror_mode": {
    "name": "ipython",
    "version": 3
   },
   "file_extension": ".py",
   "mimetype": "text/x-python",
   "name": "python",
   "nbconvert_exporter": "python",
   "pygments_lexer": "ipython3",
   "version": "3.10.11"
  }
 },
 "nbformat": 4,
 "nbformat_minor": 2
}
